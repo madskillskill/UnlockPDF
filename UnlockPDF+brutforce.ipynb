{
 "cells": [
  {
   "cell_type": "code",
   "execution_count": 1,
   "metadata": {},
   "outputs": [],
   "source": [
    "# unstandard libs:\n",
    "# !pip install pikepdf\n",
    "\n",
    "import time\n",
    "\n",
    "# tkinter modules\n",
    "import tkinter as tk\n",
    "from tkinter import ttk\n",
    "from tkinter import filedialog\n",
    "\n",
    "# pikepdf and progressbar modules\n",
    "import pikepdf\n",
    "from tqdm import tqdm\n",
    "\n",
    "# starting main window loop\n",
    "window = tk.Tk()"
   ]
  },
  {
   "cell_type": "code",
   "execution_count": 2,
   "metadata": {},
   "outputs": [],
   "source": [
    "# describe tkinter variables that we need\n",
    "K = {'pdf_file_path' : tk.Variable(),\n",
    "     'display_names' : tk.Variable()\n",
    "     }"
   ]
  },
  {
   "cell_type": "code",
   "execution_count": 3,
   "metadata": {},
   "outputs": [],
   "source": [
    "# describe window's parameters\n",
    "window.resizable(0, 0)\n",
    "window.title('UnlockPDF')\n",
    "window.geometry('400x120')\n",
    "\n",
    "window.columnconfigure(0, weight=2)\n",
    "window.rowconfigure(0)\n",
    "\n",
    "# a comand to close window in the end\n",
    "def CloseWindow():\n",
    "    window.quit()\n",
    "    window.destroy()\n",
    "\n",
    "# window's structure\n",
    "frame_upper = ttk.Frame(window, width=20, height=20)\n",
    "frame_upper.grid(column=0, row=0, sticky=tk.NSEW, padx=5, pady=5)\n",
    "\n",
    "frame_upper.columnconfigure(0, weight=4)\n",
    "\n",
    "frame_upper.rowconfigure(0, weight=1)\n",
    "frame_upper.rowconfigure(1, weight=1)\n",
    "frame_upper.rowconfigure(2, weight=10)\n",
    "\n",
    "# main function that do everything after you pick files\n",
    "def convertPDF(event=None):\n",
    "    file_paths = filedialog.askopenfilenames(\n",
    "        initialdir='',\n",
    "        title=\"Open your PDF files\",\n",
    "        filetypes=((\"PDF files\", \"*.pdf\"),))\n",
    "    files_count = len(file_paths)\n",
    "    # after files are picked, they are converted in a cycle\n",
    "    for single_file_path in file_paths:\n",
    "        # there we open files and update info line in the window\n",
    "        try:\n",
    "            # then we add suffix to file name\n",
    "            K['pdf_file_path'].set(single_file_path)\n",
    "            K['display_names'].set(K['display_names'].get() + '\\n' + single_file_path)\n",
    "            upload_pdf_line.configure(text=K['pdf_file_path'].get())\n",
    "            pdf = pikepdf.open(single_file_path, allow_overwriting_input=True)\n",
    "            filename = str(K['pdf_file_path'].get()).split('/')[-1]\n",
    "            new_filename = filename[0:-4]+'_unlocked'+'.pdf'\n",
    "            \n",
    "            # reconstruct the path for a new file\n",
    "            slash = '/'\n",
    "            new_path = slash.join(str(K['pdf_file_path'].get()).split('/')[0:-1])+slash+new_filename\n",
    "            pdf.save(new_path)\n",
    "            \n",
    "            # optional wait period\n",
    "            # time.sleep(0.5)\n",
    "            print(new_path, ' is ready')\n",
    "            window.update()      \n",
    "\n",
    "        \n",
    "        # as adapted from a guide here\n",
    "        # https://thepythoncode.com/article/crack-pdf-file-password-in-python\n",
    "        except pikepdf._core.PasswordError as e:\n",
    "            # load password list\n",
    "            passwords = [ line.strip() for line in open(\"wordlist.txt\") ]\n",
    "\n",
    "            # iterate over passwords\n",
    "            for password in tqdm(passwords, \"Decrypting PDF\"):\n",
    "                try:\n",
    "                    # open PDF file\n",
    "                    with pikepdf.open(single_file_path, password=password) as pdf:\n",
    "                        # Password decrypted successfully, break out of the loop\n",
    "                        print(\"[+] Password found:\", password)\n",
    "                        filename = str(K['pdf_file_path'].get()).split('/')[-1]\n",
    "                        new_filename = filename[0:-4]+'_unlocked'+'.pdf'\n",
    "                        \n",
    "                        # reconstruct the path for a new file\n",
    "                        slash = '/'\n",
    "                        new_path = slash.join(str(K['pdf_file_path'].get()).split('/')[0:-1])+slash+new_filename\n",
    "                        pdf.save(new_path)\n",
    "                        \n",
    "                        # optional wait period\n",
    "                        # time.sleep(0.5)\n",
    "                        print(new_path, ' is ready')\n",
    "                        window.update()                        \n",
    "                        break\n",
    "                except pikepdf._core.PasswordError as e:\n",
    "                    # wrong password, just continue in the loop\n",
    "                    continue\n",
    "            \n",
    "        \n",
    "        files_count -= 1\n",
    "        if files_count == 0:\n",
    "            #kill window\n",
    "            print('Task completed')\n",
    "            CloseWindow()"
   ]
  },
  {
   "cell_type": "code",
   "execution_count": 4,
   "metadata": {},
   "outputs": [],
   "source": [
    "# that's the header of the window\n",
    "upload_csv_label = ttk.Label(frame_upper, text=\"Pick your PDF files to unlock\", width=150, justify='center')\n",
    "upload_csv_label.grid(column=0, row=0, sticky=tk.NSEW, padx=0, pady=5, columnspan=1)\n",
    "\n",
    "# that's the button\n",
    "upload_csv_button = tk.Button(frame_upper, text='Browse', command=convertPDF, width=20)\n",
    "upload_csv_button.grid(column=0, row=1, padx=0, pady=5, sticky=tk.NSEW)\n",
    "\n",
    "# and that's a line to show a name of a last converted file\n",
    "upload_pdf_line = ttk.Label(frame_upper, text=K['display_names'].get(), wraplength=300, borderwidth=1, relief='sunken', width=50, background='black', foreground='white')\n",
    "upload_pdf_line.grid(column=0, row=2, padx=0, rowspan=10, pady=5, sticky=tk.NSEW)    "
   ]
  },
  {
   "cell_type": "code",
   "execution_count": 5,
   "metadata": {},
   "outputs": [
    {
     "name": "stdout",
     "output_type": "stream",
     "text": [
      "C:/Users/admin/Desktop/Savinykh_Prakticheskie_raboty_SMK1_24_unlocked.pdf  is ready\n",
      "Task completed\n"
     ]
    }
   ],
   "source": [
    "# here we initate this window\n",
    "window.mainloop()"
   ]
  }
 ],
 "metadata": {
  "kernelspec": {
   "display_name": "Python 3",
   "language": "python",
   "name": "python3"
  },
  "language_info": {
   "codemirror_mode": {
    "name": "ipython",
    "version": 3
   },
   "file_extension": ".py",
   "mimetype": "text/x-python",
   "name": "python",
   "nbconvert_exporter": "python",
   "pygments_lexer": "ipython3",
   "version": "3.9.13"
  },
  "orig_nbformat": 4
 },
 "nbformat": 4,
 "nbformat_minor": 2
}
